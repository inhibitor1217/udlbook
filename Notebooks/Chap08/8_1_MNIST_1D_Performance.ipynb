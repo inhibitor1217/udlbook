{
  "cells": [
    {
      "cell_type": "markdown",
      "metadata": {
        "colab_type": "text",
        "id": "view-in-github"
      },
      "source": [
        "<a href=\"https://colab.research.google.com/github/udlbook/udlbook/blob/main/Notebooks/Chap08/8_1_MNIST_1D_Performance.ipynb\" target=\"_parent\"><img src=\"https://colab.research.google.com/assets/colab-badge.svg\" alt=\"Open In Colab\"/></a>"
      ]
    },
    {
      "cell_type": "markdown",
      "metadata": {
        "id": "L6chybAVFJW2"
      },
      "source": [
        "# **Notebook 8.1: MNIST_1D_Performance**\n",
        "\n",
        "This notebook runs a simple neural network on the MNIST1D dataset as in figure 8.2a. It uses code from https://github.com/greydanus/mnist1d to generate the data.\n",
        "\n",
        "Work through the cells below, running each cell in turn. In various places you will see the words \"TO DO\". Follow the instructions at these places and make predictions about what is going to happen or write code to complete the functions.\n",
        "\n",
        "Contact me at udlbookmail@gmail.com if you find any mistakes or have any suggestions."
      ]
    },
    {
      "cell_type": "code",
      "execution_count": 1,
      "metadata": {
        "id": "ifVjS4cTOqKz"
      },
      "outputs": [
        {
          "name": "stdout",
          "output_type": "stream",
          "text": [
            "Collecting git+https://github.com/greydanus/mnist1d\n",
            "  Cloning https://github.com/greydanus/mnist1d to /private/var/folders/_1/lv4x6t2d7mx3wxjgz2q9kmp40000gn/T/pip-req-build-o7e8o6x1\n",
            "  Running command git clone --filter=blob:none --quiet https://github.com/greydanus/mnist1d /private/var/folders/_1/lv4x6t2d7mx3wxjgz2q9kmp40000gn/T/pip-req-build-o7e8o6x1\n",
            "  Resolved https://github.com/greydanus/mnist1d to commit 68cb6b2d1d3a956cc2e9035e5a9860b66e33d642\n",
            "  Installing build dependencies ... \u001b[?25ldone\n",
            "\u001b[?25h  Getting requirements to build wheel ... \u001b[?25ldone\n",
            "\u001b[?25h  Preparing metadata (pyproject.toml) ... \u001b[?25ldone\n",
            "\u001b[?25hRequirement already satisfied: requests in /opt/homebrew/lib/python3.11/site-packages (from mnist1d==0.0.2.post15) (2.31.0)\n",
            "Requirement already satisfied: numpy in /opt/homebrew/lib/python3.11/site-packages (from mnist1d==0.0.2.post15) (1.24.1)\n",
            "Requirement already satisfied: matplotlib in /opt/homebrew/lib/python3.11/site-packages (from mnist1d==0.0.2.post15) (3.8.1)\n",
            "Requirement already satisfied: scipy in /opt/homebrew/lib/python3.11/site-packages (from mnist1d==0.0.2.post15) (1.11.3)\n",
            "Requirement already satisfied: contourpy>=1.0.1 in /opt/homebrew/lib/python3.11/site-packages (from matplotlib->mnist1d==0.0.2.post15) (1.2.0)\n",
            "Requirement already satisfied: cycler>=0.10 in /opt/homebrew/lib/python3.11/site-packages (from matplotlib->mnist1d==0.0.2.post15) (0.12.1)\n",
            "Requirement already satisfied: fonttools>=4.22.0 in /opt/homebrew/lib/python3.11/site-packages (from matplotlib->mnist1d==0.0.2.post15) (4.44.3)\n",
            "Requirement already satisfied: kiwisolver>=1.3.1 in /opt/homebrew/lib/python3.11/site-packages (from matplotlib->mnist1d==0.0.2.post15) (1.4.5)\n",
            "Requirement already satisfied: packaging>=20.0 in /opt/homebrew/lib/python3.11/site-packages (from matplotlib->mnist1d==0.0.2.post15) (23.2)\n",
            "Requirement already satisfied: pillow>=8 in /opt/homebrew/lib/python3.11/site-packages (from matplotlib->mnist1d==0.0.2.post15) (9.3.0)\n",
            "Requirement already satisfied: pyparsing>=2.3.1 in /opt/homebrew/lib/python3.11/site-packages (from matplotlib->mnist1d==0.0.2.post15) (3.1.1)\n",
            "Requirement already satisfied: python-dateutil>=2.7 in /opt/homebrew/lib/python3.11/site-packages (from matplotlib->mnist1d==0.0.2.post15) (2.8.2)\n",
            "Requirement already satisfied: charset-normalizer<4,>=2 in /opt/homebrew/lib/python3.11/site-packages (from requests->mnist1d==0.0.2.post15) (2.1.1)\n",
            "Requirement already satisfied: idna<4,>=2.5 in /opt/homebrew/lib/python3.11/site-packages (from requests->mnist1d==0.0.2.post15) (3.4)\n",
            "Requirement already satisfied: urllib3<3,>=1.21.1 in /opt/homebrew/lib/python3.11/site-packages (from requests->mnist1d==0.0.2.post15) (1.26.13)\n",
            "Requirement already satisfied: certifi>=2017.4.17 in /opt/homebrew/lib/python3.11/site-packages (from requests->mnist1d==0.0.2.post15) (2022.12.7)\n",
            "Requirement already satisfied: six>=1.5 in /opt/homebrew/lib/python3.11/site-packages (from python-dateutil>=2.7->matplotlib->mnist1d==0.0.2.post15) (1.13.0)\n",
            "Building wheels for collected packages: mnist1d\n",
            "  Building wheel for mnist1d (pyproject.toml) ... \u001b[?25ldone\n",
            "\u001b[?25h  Created wheel for mnist1d: filename=mnist1d-0.0.2.post15-py3-none-any.whl size=14559 sha256=f16c0a371589aca8abc0f4330052632560178912de3cd894525e75ae3878cb02\n",
            "  Stored in directory: /private/var/folders/_1/lv4x6t2d7mx3wxjgz2q9kmp40000gn/T/pip-ephem-wheel-cache-7l1repsz/wheels/d6/38/42/3d2112bc7d915f6195254ac85eb761d922d1b18f52817aa8e2\n",
            "Successfully built mnist1d\n",
            "Installing collected packages: mnist1d\n",
            "Successfully installed mnist1d-0.0.2.post15\n",
            "\n",
            "\u001b[1m[\u001b[0m\u001b[34;49mnotice\u001b[0m\u001b[1;39;49m]\u001b[0m\u001b[39;49m A new release of pip is available: \u001b[0m\u001b[31;49m24.1.2\u001b[0m\u001b[39;49m -> \u001b[0m\u001b[32;49m24.2\u001b[0m\n",
            "\u001b[1m[\u001b[0m\u001b[34;49mnotice\u001b[0m\u001b[1;39;49m]\u001b[0m\u001b[39;49m To update, run: \u001b[0m\u001b[32;49mpython3.11 -m pip install --upgrade pip\u001b[0m\n",
            "Note: you may need to restart the kernel to use updated packages.\n"
          ]
        }
      ],
      "source": [
        "# Run this if you're in a Colab to install MNIST 1D repository\n",
        "%pip install git+https://github.com/greydanus/mnist1d"
      ]
    },
    {
      "cell_type": "code",
      "execution_count": 2,
      "metadata": {
        "id": "qyE7G1StPIqO"
      },
      "outputs": [],
      "source": [
        "import torch, torch.nn as nn\n",
        "from torch.utils.data import TensorDataset, DataLoader\n",
        "from torch.optim.lr_scheduler import StepLR\n",
        "import numpy as np\n",
        "import matplotlib.pyplot as plt\n",
        "import mnist1d"
      ]
    },
    {
      "cell_type": "markdown",
      "metadata": {
        "id": "F7LNq72SP6jO"
      },
      "source": [
        "Let's generate a training and test dataset using the MNIST1D code.  The dataset gets saved as a .pkl file so it doesn't have to be regenerated each time."
      ]
    },
    {
      "cell_type": "code",
      "execution_count": 3,
      "metadata": {
        "id": "YLxf7dJfPaqw"
      },
      "outputs": [
        {
          "name": "stdout",
          "output_type": "stream",
          "text": [
            "Did or could not load data from ./sample_data/mnist1d_data.pkl. Rebuilding dataset...\n",
            "Examples in training set: 4000\n",
            "Examples in test set: 1000\n",
            "Length of each example: 40\n"
          ]
        }
      ],
      "source": [
        "!mkdir ./sample_data\n",
        "\n",
        "args = mnist1d.data.get_dataset_args()\n",
        "data = mnist1d.data.get_dataset(args, path='./sample_data/mnist1d_data.pkl', download=False, regenerate=False)\n",
        "\n",
        "# The training and test input and outputs are in\n",
        "# data['x'], data['y'], data['x_test'], and data['y_test']\n",
        "print(\"Examples in training set: {}\".format(len(data['y'])))\n",
        "print(\"Examples in test set: {}\".format(len(data['y_test'])))\n",
        "print(\"Length of each example: {}\".format(data['x'].shape[-1]))"
      ]
    },
    {
      "cell_type": "code",
      "execution_count": 62,
      "metadata": {
        "id": "FxaB5vc0uevl"
      },
      "outputs": [
        {
          "data": {
            "text/plain": [
              "Sequential(\n",
              "  (0): Linear(in_features=40, out_features=2000, bias=True)\n",
              "  (1): ReLU()\n",
              "  (2): Linear(in_features=2000, out_features=2000, bias=True)\n",
              "  (3): ReLU()\n",
              "  (4): Linear(in_features=2000, out_features=2000, bias=True)\n",
              "  (5): ReLU()\n",
              "  (6): Linear(in_features=2000, out_features=10, bias=True)\n",
              ")"
            ]
          },
          "execution_count": 62,
          "metadata": {},
          "output_type": "execute_result"
        }
      ],
      "source": [
        "D_i = 40    # Input dimensions\n",
        "D_k = 2000   # Hidden dimensions\n",
        "D_o = 10    # Output dimensions\n",
        "\n",
        "model = torch.nn.Sequential(\n",
        "  torch.nn.Linear(D_i, D_k),\n",
        "  torch.nn.ReLU(),\n",
        "  torch.nn.Linear(D_k, D_k),\n",
        "  torch.nn.ReLU(),\n",
        "  torch.nn.Linear(D_k, D_k),\n",
        "  torch.nn.ReLU(),\n",
        "  torch.nn.Linear(D_k, D_o),\n",
        ")\n",
        "\n",
        "def weights_init(layer_in):\n",
        "  if isinstance(layer_in, nn.Linear):\n",
        "    torch.nn.init.kaiming_normal_(layer_in.weight)\n",
        "    layer_in.bias.data.fill_(0.0)\n",
        "\n",
        "# Call the function you just defined\n",
        "model.apply(weights_init)\n"
      ]
    },
    {
      "cell_type": "code",
      "execution_count": 64,
      "metadata": {
        "id": "_rX6N3VyyQTY"
      },
      "outputs": [
        {
          "name": "stdout",
          "output_type": "stream",
          "text": [
            "Epoch     0, train loss 1.636739, train error 67.07,  test loss 1.699083, test error 70.30\n",
            "Epoch     1, train loss 1.300511, train error 48.78,  test loss 1.438170, test error 57.10\n",
            "Epoch     2, train loss 1.039415, train error 39.17,  test loss 1.388538, test error 53.60\n",
            "Epoch     3, train loss 0.844262, train error 30.05,  test loss 1.250776, test error 47.30\n",
            "Epoch     4, train loss 0.540370, train error 18.80,  test loss 1.104344, test error 40.30\n",
            "Epoch     5, train loss 0.384235, train error 12.40,  test loss 1.085424, test error 38.30\n",
            "Epoch     6, train loss 0.287792, train error 9.30,  test loss 1.095732, test error 36.50\n",
            "Epoch     7, train loss 0.200740, train error 6.50,  test loss 1.101410, test error 34.60\n",
            "Epoch     8, train loss 0.115743, train error 3.10,  test loss 1.100233, test error 33.10\n",
            "Epoch     9, train loss 0.065864, train error 1.53,  test loss 1.121988, test error 31.60\n",
            "Epoch    10, train loss 0.016597, train error 0.03,  test loss 1.027445, test error 29.00\n",
            "Epoch    11, train loss 0.007205, train error 0.00,  test loss 1.061730, test error 29.20\n",
            "Epoch    12, train loss 0.005097, train error 0.00,  test loss 1.084424, test error 28.70\n",
            "Epoch    13, train loss 0.004148, train error 0.00,  test loss 1.105682, test error 28.90\n",
            "Epoch    14, train loss 0.003535, train error 0.00,  test loss 1.124818, test error 29.40\n",
            "Epoch    15, train loss 0.003097, train error 0.00,  test loss 1.137192, test error 29.60\n",
            "Epoch    16, train loss 0.002767, train error 0.00,  test loss 1.149027, test error 29.20\n",
            "Epoch    17, train loss 0.002499, train error 0.00,  test loss 1.158547, test error 29.50\n",
            "Epoch    18, train loss 0.002285, train error 0.00,  test loss 1.172654, test error 29.40\n",
            "Epoch    19, train loss 0.002105, train error 0.00,  test loss 1.182019, test error 29.30\n",
            "Epoch    20, train loss 0.002021, train error 0.00,  test loss 1.185507, test error 29.30\n",
            "Epoch    21, train loss 0.001949, train error 0.00,  test loss 1.189238, test error 29.40\n",
            "Epoch    22, train loss 0.001882, train error 0.00,  test loss 1.193289, test error 29.40\n",
            "Epoch    23, train loss 0.001820, train error 0.00,  test loss 1.198860, test error 29.20\n",
            "Epoch    24, train loss 0.001762, train error 0.00,  test loss 1.202861, test error 29.30\n",
            "Epoch    25, train loss 0.001708, train error 0.00,  test loss 1.207500, test error 29.20\n",
            "Epoch    26, train loss 0.001656, train error 0.00,  test loss 1.210169, test error 29.40\n",
            "Epoch    27, train loss 0.001608, train error 0.00,  test loss 1.213605, test error 29.40\n",
            "Epoch    28, train loss 0.001563, train error 0.00,  test loss 1.217956, test error 29.30\n",
            "Epoch    29, train loss 0.001520, train error 0.00,  test loss 1.220333, test error 29.40\n",
            "Epoch    30, train loss 0.001500, train error 0.00,  test loss 1.222225, test error 29.40\n",
            "Epoch    31, train loss 0.001480, train error 0.00,  test loss 1.223998, test error 29.40\n",
            "Epoch    32, train loss 0.001460, train error 0.00,  test loss 1.226235, test error 29.50\n",
            "Epoch    33, train loss 0.001441, train error 0.00,  test loss 1.227107, test error 29.50\n",
            "Epoch    34, train loss 0.001423, train error 0.00,  test loss 1.228608, test error 29.50\n",
            "Epoch    35, train loss 0.001405, train error 0.00,  test loss 1.230230, test error 29.40\n",
            "Epoch    36, train loss 0.001388, train error 0.00,  test loss 1.231967, test error 29.40\n",
            "Epoch    37, train loss 0.001371, train error 0.00,  test loss 1.233427, test error 29.50\n",
            "Epoch    38, train loss 0.001354, train error 0.00,  test loss 1.235265, test error 29.50\n",
            "Epoch    39, train loss 0.001338, train error 0.00,  test loss 1.236545, test error 29.50\n",
            "Epoch    40, train loss 0.001330, train error 0.00,  test loss 1.237036, test error 29.50\n",
            "Epoch    41, train loss 0.001323, train error 0.00,  test loss 1.237783, test error 29.50\n",
            "Epoch    42, train loss 0.001315, train error 0.00,  test loss 1.238788, test error 29.50\n",
            "Epoch    43, train loss 0.001307, train error 0.00,  test loss 1.239368, test error 29.50\n",
            "Epoch    44, train loss 0.001300, train error 0.00,  test loss 1.240084, test error 29.50\n",
            "Epoch    45, train loss 0.001292, train error 0.00,  test loss 1.240859, test error 29.50\n",
            "Epoch    46, train loss 0.001285, train error 0.00,  test loss 1.241506, test error 29.50\n",
            "Epoch    47, train loss 0.001278, train error 0.00,  test loss 1.242234, test error 29.40\n",
            "Epoch    48, train loss 0.001270, train error 0.00,  test loss 1.242968, test error 29.30\n",
            "Epoch    49, train loss 0.001263, train error 0.00,  test loss 1.243563, test error 29.40\n"
          ]
        }
      ],
      "source": [
        "# choose cross entropy loss function (equation 5.24)\n",
        "loss_function = torch.nn.CrossEntropyLoss()\n",
        "# construct SGD optimizer and initialize learning rate and momentum\n",
        "optimizer = torch.optim.SGD(model.parameters(), lr = 0.05, momentum=0.9)\n",
        "# object that decreases learning rate by half every 10 epochs\n",
        "scheduler = StepLR(optimizer, step_size=10, gamma=0.5)\n",
        "x_train = torch.tensor(data['x'].astype('float32'))\n",
        "y_train = torch.tensor(data['y'].transpose().astype('long'))\n",
        "x_test= torch.tensor(data['x_test'].astype('float32'))\n",
        "y_test = torch.tensor(data['y_test'].astype('long'))\n",
        "\n",
        "# load the data into a class that creates the batches\n",
        "data_loader = DataLoader(TensorDataset(x_train,y_train), batch_size=100, shuffle=True, worker_init_fn=np.random.seed(1))\n",
        "\n",
        "# Initialize model weights\n",
        "model.apply(weights_init)\n",
        "\n",
        "# loop over the dataset n_epoch times\n",
        "n_epoch = 50\n",
        "# store the loss and the % correct at each epoch\n",
        "losses_train = np.zeros((n_epoch))\n",
        "errors_train = np.zeros((n_epoch))\n",
        "losses_test = np.zeros((n_epoch))\n",
        "errors_test = np.zeros((n_epoch))\n",
        "\n",
        "for epoch in range(n_epoch):\n",
        "  # loop over batches\n",
        "  for i, batch in enumerate(data_loader):\n",
        "    # retrieve inputs and labels for this batch\n",
        "    x_batch, y_batch = batch\n",
        "    # zero the parameter gradients\n",
        "    optimizer.zero_grad()\n",
        "    # forward pass -- calculate model output\n",
        "    pred = model(x_batch)\n",
        "    # compute the loss\n",
        "    loss = loss_function(pred, y_batch)\n",
        "    # backward pass\n",
        "    loss.backward()\n",
        "    # SGD update\n",
        "    optimizer.step()\n",
        "\n",
        "  # Run whole dataset to get statistics -- normally wouldn't do this\n",
        "  pred_train = model(x_train)\n",
        "  pred_test = model(x_test)\n",
        "  _, predicted_train_class = torch.max(pred_train.data, 1)\n",
        "  _, predicted_test_class = torch.max(pred_test.data, 1)\n",
        "  errors_train[epoch] = 100 - 100 * (predicted_train_class == y_train).float().sum() / len(y_train)\n",
        "  errors_test[epoch]= 100 - 100 * (predicted_test_class == y_test).float().sum() / len(y_test)\n",
        "  losses_train[epoch] = loss_function(pred_train, y_train).item()\n",
        "  losses_test[epoch]= loss_function(pred_test, y_test).item()\n",
        "  print(f'Epoch {epoch:5d}, train loss {losses_train[epoch]:.6f}, train error {errors_train[epoch]:3.2f},  test loss {losses_test[epoch]:.6f}, test error {errors_test[epoch]:3.2f}')\n",
        "\n",
        "  # tell scheduler to consider updating learning rate\n",
        "  scheduler.step()"
      ]
    },
    {
      "cell_type": "code",
      "execution_count": 65,
      "metadata": {
        "id": "yI-l6kA_EH9G"
      },
      "outputs": [
        {
          "data": {
            "image/png": "[encoded data removed]",
            "text/plain": [
              "<Figure size 640x480 with 1 Axes>"
            ]
          },
          "metadata": {},
          "output_type": "display_data"
        },
        {
          "data": {
            "image/png": "[encoded data removed]",
            "text/plain": [
              "<Figure size 640x480 with 1 Axes>"
            ]
          },
          "metadata": {},
          "output_type": "display_data"
        }
      ],
      "source": [
        "# Plot the results\n",
        "fig, ax = plt.subplots()\n",
        "ax.plot(errors_train,'r-',label='train')\n",
        "ax.plot(errors_test,'b-',label='test')\n",
        "ax.set_ylim(0,100); ax.set_xlim(0,n_epoch)\n",
        "ax.set_xlabel('Epoch'); ax.set_ylabel('Error')\n",
        "ax.set_title('TrainError %3.2f, Test Error %3.2f'%(errors_train[-1],errors_test[-1]))\n",
        "ax.legend()\n",
        "plt.show()\n",
        "\n",
        "# Plot the results\n",
        "fig, ax = plt.subplots()\n",
        "ax.plot(losses_train,'r-',label='train')\n",
        "ax.plot(losses_test,'b-',label='test')\n",
        "ax.set_xlim(0,n_epoch)\n",
        "ax.set_xlabel('Epoch'); ax.set_ylabel('Loss')\n",
        "ax.set_title('Train loss %3.2f, Test loss %3.2f'%(losses_train[-1],losses_test[-1]))\n",
        "ax.legend()\n",
        "plt.show()"
      ]
    },
    {
      "cell_type": "markdown",
      "metadata": {
        "id": "q-yT6re6GZS4"
      },
      "source": [
        "**TO DO**\n",
        "\n",
        "Play with the model -- try changing the number of layers, hidden units, learning rate, batch size, momentum or anything else you like.  See if you can improve the test results.\n",
        "\n",
        "Is it a good idea to optimize the hyperparameters in this way?  Will the final result be a good estimate of the true test performance?"
      ]
    }
  ],
  "metadata": {
    "accelerator": "GPU",
    "colab": {
      "authorship_tag": "ABX9TyOuKMUcKfOIhIL2qTX9jJCy",
      "gpuType": "T4",
      "include_colab_link": true,
      "provenance": []
    },
    "kernelspec": {
      "display_name": "Python 3",
      "name": "python3"
    },
    "language_info": {
      "codemirror_mode": {
        "name": "ipython",
        "version": 3
      },
      "file_extension": ".py",
      "mimetype": "text/x-python",
      "name": "python",
      "nbconvert_exporter": "python",
      "pygments_lexer": "ipython3",
      "version": "3.11.9"
    }
  },
  "nbformat": 4,
  "nbformat_minor": 0
}
